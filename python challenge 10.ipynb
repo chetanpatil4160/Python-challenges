{
  "cells": [
    {
      "cell_type": "markdown",
      "metadata": {
        "id": "view-in-github",
        "colab_type": "text"
      },
      "source": [
        "<a href=\"https://colab.research.google.com/github/chetanpatil4160/Python-challenges/blob/main/python%20challenge%2010.ipynb\" target=\"_parent\"><img src=\"https://colab.research.google.com/assets/colab-badge.svg\" alt=\"Open In Colab\"/></a>"
      ]
    },
    {
      "cell_type": "markdown",
      "id": "3dcb940f",
      "metadata": {
        "id": "3dcb940f"
      },
      "source": [
        "## Python Basic Programming Assignment 10"
      ]
    },
    {
      "cell_type": "markdown",
      "id": "6720790a",
      "metadata": {
        "id": "6720790a"
      },
      "source": [
        "### 1. Write a Python program to find sum of elements in list?"
      ]
    },
    {
      "cell_type": "code",
      "source": [
        "n =int(input('Enter number of element of list: '))\n",
        "l=[]\n",
        "sum=0\n",
        "for i in range(n):\n",
        "  elm = int(input('Enter your element: '))\n",
        "  l.append(elm)\n",
        "print(l)\n",
        "\n",
        "for i in range(len(l)):\n",
        "  sum = sum + l[i]\n",
        "print('sum of element of the list is = ',sum)"
      ],
      "metadata": {
        "id": "_jf_71UhUpI9",
        "outputId": "91dc9022-7a3f-4e52-db4c-72282a22bf08",
        "colab": {
          "base_uri": "https://localhost:8080/"
        }
      },
      "id": "_jf_71UhUpI9",
      "execution_count": 11,
      "outputs": [
        {
          "output_type": "stream",
          "name": "stdout",
          "text": [
            "Enter number of element of list: 2\n",
            "Enter your element: 2\n",
            "Enter your element: 2\n",
            "[2, 2]\n",
            "sum of element of the list is equal to  4\n"
          ]
        }
      ]
    },
    {
      "cell_type": "markdown",
      "id": "fe1137c3",
      "metadata": {
        "id": "fe1137c3"
      },
      "source": [
        "### 2. Write a Python program to  Multiply all numbers in the list?"
      ]
    },
    {
      "cell_type": "code",
      "source": [
        "n =int(input('Enter number of element of list: '))\n",
        "l=[]\n",
        "mul=1\n",
        "for i in range(n):\n",
        "  elm = int(input('Enter your element: '))\n",
        "  l.append(elm)\n",
        "print('list = ',l)\n",
        "\n",
        "for i in range(len(l)):\n",
        "  mul = mul * l[i]\n",
        "print('multiplication of element of the list is = ',mul)"
      ],
      "metadata": {
        "id": "l0pUm8EBWLvk",
        "outputId": "f969176c-b1dc-4200-ef74-49a0ad4c1e05",
        "colab": {
          "base_uri": "https://localhost:8080/"
        }
      },
      "id": "l0pUm8EBWLvk",
      "execution_count": 15,
      "outputs": [
        {
          "output_type": "stream",
          "name": "stdout",
          "text": [
            "Enter number of element of list: 1\n",
            "Enter your element: 2\n",
            "list =  [2]\n",
            "multiplication of element of the list is =  2\n"
          ]
        }
      ]
    },
    {
      "cell_type": "markdown",
      "id": "078681db",
      "metadata": {
        "id": "078681db"
      },
      "source": [
        "### 3. Write a Python program to find smallest number in a list?"
      ]
    },
    {
      "cell_type": "code",
      "source": [
        "n =int(input('Enter number of element of list: '))\n",
        "l=[]\n",
        "\n",
        "for i in range(n):\n",
        "  elm = int(input('Enter your element: '))\n",
        "  l.append(elm)\n",
        "l.sort()\n",
        "print('list = ',l)\n",
        "print('Smallest of element of the list is = ',l[0])"
      ],
      "metadata": {
        "id": "iWu2UsCPXkJG",
        "outputId": "5e7788e2-0027-42ee-b070-89a6418fb21a",
        "colab": {
          "base_uri": "https://localhost:8080/"
        }
      },
      "id": "iWu2UsCPXkJG",
      "execution_count": 23,
      "outputs": [
        {
          "output_type": "stream",
          "name": "stdout",
          "text": [
            "Enter number of element of list: 4\n",
            "Enter your element: 3\n",
            "Enter your element: 6\n",
            "Enter your element: 8\n",
            "Enter your element: 9\n",
            "list =  [3, 6, 8, 9]\n",
            "Smallest of element of the list is =  3\n"
          ]
        }
      ]
    },
    {
      "cell_type": "markdown",
      "id": "12b04397",
      "metadata": {
        "id": "12b04397"
      },
      "source": [
        "### 4. Write a Python program to find largest number in a list?"
      ]
    },
    {
      "cell_type": "code",
      "source": [
        "n =int(input('Enter number of element of list: '))\n",
        "l=[]\n",
        "\n",
        "for i in range(n):\n",
        "  elm = int(input('Enter your element: '))\n",
        "  l.append(elm)\n",
        "l.sort()\n",
        "print('list = ',l)\n",
        "print('largest of element of the list is = ',l[n-1])"
      ],
      "metadata": {
        "id": "xkSNzefJYA6S",
        "outputId": "5d756819-efbc-47e1-f228-b5a77b3e69e4",
        "colab": {
          "base_uri": "https://localhost:8080/"
        }
      },
      "id": "xkSNzefJYA6S",
      "execution_count": 24,
      "outputs": [
        {
          "output_type": "stream",
          "name": "stdout",
          "text": [
            "Enter number of element of list: 5\n",
            "Enter your element: 6\n",
            "Enter your element: 8\n",
            "Enter your element: 9\n",
            "Enter your element: 10\n",
            "Enter your element: 5\n",
            "list =  [5, 6, 8, 9, 10]\n",
            "Smallest of element of the list is =  10\n"
          ]
        }
      ]
    },
    {
      "cell_type": "markdown",
      "id": "86442b51",
      "metadata": {
        "id": "86442b51"
      },
      "source": [
        "### 5. Write a Python program to find second largest number in a list?"
      ]
    },
    {
      "cell_type": "code",
      "source": [
        "n =int(input('Enter number of element of list: '))\n",
        "l=[]\n",
        "for i in range(n):\n",
        "  elm = int(input('Enter your element: '))\n",
        "  l.append(elm)\n",
        "l=list(set(l))\n",
        "l.sort()\n",
        "print('list = ',l)\n",
        "print('second largest of element of the list is = ',l[-2])"
      ],
      "metadata": {
        "id": "-fKfm_BRYaFi",
        "outputId": "614634cb-130c-41cb-c3ab-e8e71d79fa16",
        "colab": {
          "base_uri": "https://localhost:8080/"
        }
      },
      "id": "-fKfm_BRYaFi",
      "execution_count": 35,
      "outputs": [
        {
          "output_type": "stream",
          "name": "stdout",
          "text": [
            "Enter number of element of list: 5\n",
            "Enter your element: 8\n",
            "Enter your element: 9\n",
            "Enter your element: 10\n",
            "Enter your element: 11\n",
            "Enter your element: 11\n",
            "list =  [8, 9, 10, 11]\n",
            "largest of element of the list is =  10\n"
          ]
        }
      ]
    },
    {
      "cell_type": "markdown",
      "id": "10964d7d",
      "metadata": {
        "id": "10964d7d"
      },
      "source": [
        "### 6. Write a Python program to find N largest elements from a list?"
      ]
    },
    {
      "cell_type": "code",
      "source": [
        "n =int(input('Enter number of element of list: '))\n",
        "l=[]\n",
        "\n",
        "for i in range(n):\n",
        "  elm = int(input('Enter your element: '))\n",
        "  l.append(elm)\n",
        "n_largest = int(input('Enter element for n largest: '))\n",
        "l=list(set(l))\n",
        "l.sort()\n",
        "print('list = ',l)\n",
        "print('second largest of element of the list is = ',l[len(l)-n_largest])"
      ],
      "metadata": {
        "id": "seF9gv9Qb7GI",
        "outputId": "3400ba8e-e351-46de-d665-7e4148b440d9",
        "colab": {
          "base_uri": "https://localhost:8080/"
        }
      },
      "id": "seF9gv9Qb7GI",
      "execution_count": 45,
      "outputs": [
        {
          "output_type": "stream",
          "name": "stdout",
          "text": [
            "Enter number of element of list: 5\n",
            "Enter your element: 5\n",
            "Enter your element: 10\n",
            "Enter your element: 15\n",
            "Enter your element: 20\n",
            "Enter your element: 20\n",
            "Enter element for n largest: 3\n",
            "list =  [5, 10, 15, 20]\n",
            "second largest of element of the list is =  10\n"
          ]
        }
      ]
    },
    {
      "cell_type": "markdown",
      "id": "2f1a1e98",
      "metadata": {
        "id": "2f1a1e98"
      },
      "source": [
        "### 7. Write a Python program to print even numbers in a list?"
      ]
    },
    {
      "cell_type": "code",
      "source": [
        "n =int(input('Enter number of element of list: '))\n",
        "l=[]\n",
        "even_list = []\n",
        "for i in range(n):\n",
        "  elm = int(input('Enter your element: '))\n",
        "  l.append(elm)\n",
        "for i in range(len(l)):\n",
        "  if l[i] % 2 == 0:\n",
        "    even_list.append(l[i])\n",
        "print('Even number from list = ',even_list)\n"
      ],
      "metadata": {
        "id": "2UHdN-lQe-Vy",
        "outputId": "97802fda-80d0-49b4-fa3b-e6b5029374e9",
        "colab": {
          "base_uri": "https://localhost:8080/"
        }
      },
      "id": "2UHdN-lQe-Vy",
      "execution_count": 46,
      "outputs": [
        {
          "output_type": "stream",
          "name": "stdout",
          "text": [
            "Enter number of element of list: 5\n",
            "Enter your element: 2\n",
            "Enter your element: 4\n",
            "Enter your element: 6\n",
            "Enter your element: 8\n",
            "Enter your element: 5\n",
            "Even number from list =  [2, 4, 6, 8]\n"
          ]
        }
      ]
    },
    {
      "cell_type": "markdown",
      "id": "989bb324",
      "metadata": {
        "id": "989bb324"
      },
      "source": [
        "### 8. Write a Python program to print odd numbers in a List?"
      ]
    },
    {
      "cell_type": "code",
      "source": [
        "n =int(input('Enter number of element of list: '))\n",
        "l=[]\n",
        "odd_list = []\n",
        "for i in range(n):\n",
        "  elm = int(input('Enter your element: '))\n",
        "  l.append(elm)\n",
        "for i in range(len(l)):\n",
        "  if l[i] % 2 != 0:\n",
        "    odd_list.append(l[i])\n",
        "print('odd number from list = ',odd_list)\n"
      ],
      "metadata": {
        "id": "Vb5Dk2AvhGQS",
        "outputId": "c04cabc0-3073-4868-b0ee-041a5e3ac42f",
        "colab": {
          "base_uri": "https://localhost:8080/"
        }
      },
      "id": "Vb5Dk2AvhGQS",
      "execution_count": 48,
      "outputs": [
        {
          "output_type": "stream",
          "name": "stdout",
          "text": [
            "Enter number of element of list: 3\n",
            "Enter your element: 5\n",
            "Enter your element: 7\n",
            "Enter your element: 7\n",
            "odd number from list =  [5, 7, 7]\n"
          ]
        }
      ]
    },
    {
      "cell_type": "markdown",
      "id": "185b7b13",
      "metadata": {
        "id": "185b7b13"
      },
      "source": [
        "### 9. Write a Python program to Remove empty List from List?"
      ]
    },
    {
      "cell_type": "code",
      "source": [
        "l=[2,3,4,5,'abcd',[1223,4,5,8],[]]\n",
        "\n",
        "for i in l:\n",
        "  if type(i) == list and len(i) == 0:\n",
        "    l.remove(i)\n",
        "print(l)"
      ],
      "metadata": {
        "id": "ZhNSJ7ZUhZgN",
        "outputId": "a1ba7c29-7a08-4025-f9dc-442a16154dca",
        "colab": {
          "base_uri": "https://localhost:8080/"
        }
      },
      "id": "ZhNSJ7ZUhZgN",
      "execution_count": 53,
      "outputs": [
        {
          "output_type": "stream",
          "name": "stdout",
          "text": [
            "[2, 3, 4, 5, 'abcd', [1223, 4, 5, 8]]\n"
          ]
        }
      ]
    },
    {
      "cell_type": "markdown",
      "id": "278cfacc",
      "metadata": {
        "id": "278cfacc"
      },
      "source": [
        "### 10. Write a Python program to Cloning or Copying a list?"
      ]
    },
    {
      "cell_type": "code",
      "source": [
        "original_list = [10, 22, 44, 23, 4]\n",
        "new_list = list(original_list)\n",
        "print(original_list)\n",
        "print(new_list)"
      ],
      "metadata": {
        "id": "xmwNuzVvlsY-",
        "outputId": "14bda4c9-e9e4-47be-e978-317024c42624",
        "colab": {
          "base_uri": "https://localhost:8080/"
        }
      },
      "id": "xmwNuzVvlsY-",
      "execution_count": 54,
      "outputs": [
        {
          "output_type": "stream",
          "name": "stdout",
          "text": [
            "[10, 22, 44, 23, 4]\n",
            "[10, 22, 44, 23, 4]\n"
          ]
        }
      ]
    },
    {
      "cell_type": "markdown",
      "id": "b359bedf",
      "metadata": {
        "id": "b359bedf"
      },
      "source": [
        "### 11. Write a Python program to Count occurrences of an element in a list?"
      ]
    },
    {
      "cell_type": "code",
      "source": [
        "d={}\n",
        "l=[1,1,2,4,4,4,5,8,7,5,5,5,5]\n",
        "\n",
        "for i in l:\n",
        "  if (i in d):\n",
        "    d[i] =d[i] + 1\n",
        "  else:\n",
        "    d[i] = 1\n",
        "print(d)"
      ],
      "metadata": {
        "id": "XjJKxKgMme4h",
        "outputId": "536420eb-0efb-4a60-800b-2c31227d9441",
        "colab": {
          "base_uri": "https://localhost:8080/"
        }
      },
      "id": "XjJKxKgMme4h",
      "execution_count": 71,
      "outputs": [
        {
          "output_type": "stream",
          "name": "stdout",
          "text": [
            "{1: 2, 2: 1, 4: 3, 5: 5, 8: 1, 7: 1}\n"
          ]
        }
      ]
    },
    {
      "cell_type": "code",
      "source": [],
      "metadata": {
        "id": "DIQslgo5pSPO"
      },
      "id": "DIQslgo5pSPO",
      "execution_count": null,
      "outputs": []
    }
  ],
  "metadata": {
    "kernelspec": {
      "display_name": "Python 3 (ipykernel)",
      "language": "python",
      "name": "python3"
    },
    "language_info": {
      "codemirror_mode": {
        "name": "ipython",
        "version": 3
      },
      "file_extension": ".py",
      "mimetype": "text/x-python",
      "name": "python",
      "nbconvert_exporter": "python",
      "pygments_lexer": "ipython3",
      "version": "3.9.12"
    },
    "colab": {
      "provenance": [],
      "include_colab_link": true
    }
  },
  "nbformat": 4,
  "nbformat_minor": 5
}