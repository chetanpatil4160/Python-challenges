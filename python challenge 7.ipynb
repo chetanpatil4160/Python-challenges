{
  "cells": [
    {
      "cell_type": "markdown",
      "metadata": {
        "id": "view-in-github",
        "colab_type": "text"
      },
      "source": [
        "<a href=\"https://colab.research.google.com/github/chetanpatil4160/Python-challenges/blob/main/python%20challeng%207.ipynb\" target=\"_parent\"><img src=\"https://colab.research.google.com/assets/colab-badge.svg\" alt=\"Open In Colab\"/></a>"
      ]
    },
    {
      "cell_type": "markdown",
      "id": "35297a20",
      "metadata": {
        "id": "35297a20"
      },
      "source": [
        "## Programming Basic Assignment 7"
      ]
    },
    {
      "cell_type": "markdown",
      "id": "27349114",
      "metadata": {
        "id": "27349114"
      },
      "source": [
        "### 1. Write a Python Program to find sum of array?"
      ]
    },
    {
      "cell_type": "code",
      "source": [
        "import numpy as np"
      ],
      "metadata": {
        "id": "w3GiYUEwo1mC"
      },
      "id": "w3GiYUEwo1mC",
      "execution_count": 1,
      "outputs": []
    },
    {
      "cell_type": "code",
      "source": [
        "a = np.array([1,2,3,4,5,6])\n",
        "\n",
        "sum=0\n",
        "for i in range(len(a)):\n",
        "  sum = sum + a[i]\n",
        "print(sum)\n"
      ],
      "metadata": {
        "id": "GT1HdSLzqsPD",
        "outputId": "80453e37-e761-4006-b22a-1c85f4fe1006",
        "colab": {
          "base_uri": "https://localhost:8080/"
        }
      },
      "id": "GT1HdSLzqsPD",
      "execution_count": 5,
      "outputs": [
        {
          "output_type": "stream",
          "name": "stdout",
          "text": [
            "21\n"
          ]
        }
      ]
    },
    {
      "cell_type": "code",
      "source": [
        "def sum_arry(a):\n",
        "  ''' a - give input as list '''\n",
        "  import numpy as np\n",
        "  b = np.array(a)\n",
        "  sum =0\n",
        "  for i in range(len(b)):\n",
        "    sum = sum + b[i]\n",
        "  return sum\n"
      ],
      "metadata": {
        "id": "sOQGaL63rO5c"
      },
      "id": "sOQGaL63rO5c",
      "execution_count": 16,
      "outputs": []
    },
    {
      "cell_type": "code",
      "source": [
        "sum_arry([1,2,3,4,5,6])"
      ],
      "metadata": {
        "id": "OAbIj0H8rxkm",
        "outputId": "7875c480-d13f-4344-bb13-e6fdd00992f2",
        "colab": {
          "base_uri": "https://localhost:8080/"
        }
      },
      "id": "OAbIj0H8rxkm",
      "execution_count": 17,
      "outputs": [
        {
          "output_type": "execute_result",
          "data": {
            "text/plain": [
              "21"
            ]
          },
          "metadata": {},
          "execution_count": 17
        }
      ]
    },
    {
      "cell_type": "markdown",
      "id": "171a980d",
      "metadata": {
        "id": "171a980d"
      },
      "source": [
        "### 2. Write a Python Program to find largest element in an array?\n"
      ]
    },
    {
      "cell_type": "code",
      "source": [
        "a = np.array([1,2,3,4,5,6,7,89])\n",
        "\n",
        "b= max(a)\n",
        "print('the maximum Element from arry is ',b)"
      ],
      "metadata": {
        "id": "NyL3P7sao3-r",
        "outputId": "33f18984-1874-4835-dc91-679c90d857fe",
        "colab": {
          "base_uri": "https://localhost:8080/"
        }
      },
      "id": "NyL3P7sao3-r",
      "execution_count": 23,
      "outputs": [
        {
          "output_type": "stream",
          "name": "stdout",
          "text": [
            "the maximum Element from arry is  89\n"
          ]
        }
      ]
    },
    {
      "cell_type": "markdown",
      "id": "21613246",
      "metadata": {
        "id": "21613246"
      },
      "source": [
        "### 3. Write a Python Program for array rotation?"
      ]
    },
    {
      "cell_type": "markdown",
      "source": [
        "# left Rotation "
      ],
      "metadata": {
        "id": "U5n9yzsAJvs1"
      },
      "id": "U5n9yzsAJvs1"
    },
    {
      "cell_type": "code",
      "source": [
        "a = []\n",
        "size = int(input('Enter the size of list '))\n",
        "\n",
        "for i in range(size):\n",
        "  val = int(input('Enter the value: '))\n",
        "  a.append(val)\n",
        "print('list of elemnt is ',a)\n",
        "\n",
        "key = a[0]\n",
        "\n",
        "for i in range(1,size):\n",
        "  a[i-1] = a[i]\n",
        "a[size-1] = key\n",
        "\n",
        "print(a)"
      ],
      "metadata": {
        "id": "OslUpW_Vo420",
        "outputId": "cb6fa010-3df4-4600-e566-c0e10ffadd8d",
        "colab": {
          "base_uri": "https://localhost:8080/"
        }
      },
      "id": "OslUpW_Vo420",
      "execution_count": 29,
      "outputs": [
        {
          "output_type": "stream",
          "name": "stdout",
          "text": [
            "Enter the size of list 5\n",
            "Enter the value: 5\n",
            "Enter the value: 10\n",
            "Enter the value: 15\n",
            "Enter the value: 20\n",
            "Enter the value: 25\n",
            "list of elemnt is  [5, 10, 15, 20, 25]\n",
            "[10, 15, 20, 25, 5]\n"
          ]
        }
      ]
    },
    {
      "cell_type": "markdown",
      "source": [
        "# Right rotation"
      ],
      "metadata": {
        "id": "F-9bDzsxJzfk"
      },
      "id": "F-9bDzsxJzfk"
    },
    {
      "cell_type": "code",
      "source": [
        "a = []\n",
        "size = int(input('Enter the size of list '))\n",
        "\n",
        "for i in range(size):\n",
        "  val = int(input('Enter the value: '))\n",
        "  a.append(val)\n",
        "print('list of elemnt is ',a)\n",
        "\n",
        "key = a[size-1]\n",
        "\n",
        "for i in range(size-2,-1,-1):\n",
        "  a[i+1] = a[i]\n",
        "a[0] = key\n",
        "print(a)"
      ],
      "metadata": {
        "id": "ZB7xwSp2JqcR",
        "outputId": "d8a94956-638d-4990-ff03-267eacca47ef",
        "colab": {
          "base_uri": "https://localhost:8080/"
        }
      },
      "id": "ZB7xwSp2JqcR",
      "execution_count": 30,
      "outputs": [
        {
          "output_type": "stream",
          "name": "stdout",
          "text": [
            "Enter the size of list 5\n",
            "Enter the value: 5\n",
            "Enter the value: 10\n",
            "Enter the value: 15\n",
            "Enter the value: 20\n",
            "Enter the value: 25\n",
            "list of elemnt is  [5, 10, 15, 20, 25]\n",
            "[25, 5, 10, 15, 20]\n"
          ]
        }
      ]
    },
    {
      "cell_type": "markdown",
      "source": [
        " # for 2 position shift left"
      ],
      "metadata": {
        "id": "YwjLfpgcOD8e"
      },
      "id": "YwjLfpgcOD8e"
    },
    {
      "cell_type": "code",
      "source": [
        "a = []\n",
        "size = int(input('Enter the size of list '))\n",
        "n = int(input('Enter the position to shif: '))\n",
        "\n",
        "for i in range(size):\n",
        "  val = int(input('Enter the value: '))\n",
        "  a.append(val)\n",
        "print('list of elemnt is ',a)\n",
        "for i in range(n):\n",
        "  key = a[0]\n",
        "  for i in range(1,size):\n",
        "    a[i-1] = a[i]\n",
        "  a[size-1] = key\n",
        "print(a)"
      ],
      "metadata": {
        "id": "-4Bf0drAODkD",
        "outputId": "1c2865ba-210f-4b05-9c8c-7d273f37bba3",
        "colab": {
          "base_uri": "https://localhost:8080/"
        }
      },
      "id": "-4Bf0drAODkD",
      "execution_count": 33,
      "outputs": [
        {
          "output_type": "stream",
          "name": "stdout",
          "text": [
            "Enter the size of list 5\n",
            "Enter the position to shif: 2\n",
            "Enter the value: 5\n",
            "Enter the value: 10\n",
            "Enter the value: 15\n",
            "Enter the value: 20\n",
            "Enter the value: 25\n",
            "list of elemnt is  [5, 10, 15, 20, 25]\n",
            "[15, 20, 25, 5, 10]\n"
          ]
        }
      ]
    },
    {
      "cell_type": "markdown",
      "source": [
        "# two position shift to right"
      ],
      "metadata": {
        "id": "42IE7uerPaDT"
      },
      "id": "42IE7uerPaDT"
    },
    {
      "cell_type": "code",
      "source": [
        "a = []\n",
        "size = int(input('Enter the size of list '))\n",
        "n = int(input('Enter the position to shif: '))\n",
        "\n",
        "for i in range(size):\n",
        "  val = int(input('Enter the value: '))\n",
        "  a.append(val)\n",
        "print('list of elemnt is ',a)\n",
        "for i in range(n):\n",
        "  key = a[size-1]\n",
        "  for i in range(size-2,-1,-1):\n",
        "    a[i+1] = a[i]\n",
        "  a[0] = key\n",
        "print(a)"
      ],
      "metadata": {
        "id": "ytA815JQPZMN",
        "outputId": "f5da9b2c-6cb0-4893-c87e-0bbf7288f8bb",
        "colab": {
          "base_uri": "https://localhost:8080/"
        }
      },
      "id": "ytA815JQPZMN",
      "execution_count": 36,
      "outputs": [
        {
          "output_type": "stream",
          "name": "stdout",
          "text": [
            "Enter the size of list 5\n",
            "Enter the position to shif: 2\n",
            "Enter the value: 5\n",
            "Enter the value: 10\n",
            "Enter the value: 15\n",
            "Enter the value: 20\n",
            "Enter the value: 25\n",
            "list of elemnt is  [5, 10, 15, 20, 25]\n",
            "[20, 25, 5, 10, 15]\n"
          ]
        }
      ]
    },
    {
      "cell_type": "markdown",
      "id": "3e52d939",
      "metadata": {
        "id": "3e52d939"
      },
      "source": [
        " ### 4. Write a Python Program to Split the array and add the first part to the end?"
      ]
    },
    {
      "cell_type": "code",
      "source": [
        "\n",
        "arr = [12, 10, 5, 6, 52, 36]\n",
        "\n",
        "n = 3\n",
        "\n",
        "x = arr[:n]\n",
        "y =arr[n:]\n",
        "y.extend(x)\n",
        "\n",
        "for i in y:\n",
        "  print(i ,end = ' ')"
      ],
      "metadata": {
        "id": "RpvrZ4aZo5mP",
        "outputId": "9676e20f-beda-4a27-cc18-e3f0a0fc3d6f",
        "colab": {
          "base_uri": "https://localhost:8080/"
        }
      },
      "id": "RpvrZ4aZo5mP",
      "execution_count": 42,
      "outputs": [
        {
          "output_type": "stream",
          "name": "stdout",
          "text": [
            "6 52 36 12 10 5 "
          ]
        }
      ]
    },
    {
      "cell_type": "markdown",
      "id": "aa375779",
      "metadata": {
        "id": "aa375779"
      },
      "source": [
        "### 5. Write a Python Program to check if given array is Monotonic?"
      ]
    },
    {
      "cell_type": "code",
      "source": [
        "a = [1,2,3,4,5,6]\n",
        "\n",
        "for i in range(len(a)-1):\n",
        "  if a[i] <= a[i+1]:\n",
        "    print(f'{a[i]} is less than {a[i+1]}')\n",
        "    print('it is contiounsly increasing')\n",
        "  else:\n",
        "    print('it is not increasing')"
      ],
      "metadata": {
        "id": "eISU8v_Go61Y",
        "outputId": "109ce5cc-e44f-4e02-f248-d1437df1346a",
        "colab": {
          "base_uri": "https://localhost:8080/"
        }
      },
      "id": "eISU8v_Go61Y",
      "execution_count": 48,
      "outputs": [
        {
          "output_type": "stream",
          "name": "stdout",
          "text": [
            "1 is less than 2\n",
            "it is contiounsly increasing\n",
            "2 is less than 3\n",
            "it is contiounsly increasing\n",
            "3 is less than 4\n",
            "it is contiounsly increasing\n",
            "4 is less than 5\n",
            "it is contiounsly increasing\n",
            "5 is less than 6\n",
            "it is contiounsly increasing\n"
          ]
        }
      ]
    },
    {
      "cell_type": "code",
      "source": [],
      "metadata": {
        "id": "xmagnPg-SlS8"
      },
      "id": "xmagnPg-SlS8",
      "execution_count": null,
      "outputs": []
    }
  ],
  "metadata": {
    "kernelspec": {
      "display_name": "Python 3 (ipykernel)",
      "language": "python",
      "name": "python3"
    },
    "language_info": {
      "codemirror_mode": {
        "name": "ipython",
        "version": 3
      },
      "file_extension": ".py",
      "mimetype": "text/x-python",
      "name": "python",
      "nbconvert_exporter": "python",
      "pygments_lexer": "ipython3",
      "version": "3.9.12"
    },
    "colab": {
      "provenance": [],
      "include_colab_link": true
    }
  },
  "nbformat": 4,
  "nbformat_minor": 5
}
