{
  "cells": [
    {
      "cell_type": "markdown",
      "metadata": {
        "id": "view-in-github",
        "colab_type": "text"
      },
      "source": [
        "<a href=\"https://colab.research.google.com/github/chetanpatil4160/Python-challenges/blob/main/python%20challenge%2014.ipynb\" target=\"_parent\"><img src=\"https://colab.research.google.com/assets/colab-badge.svg\" alt=\"Open In Colab\"/></a>"
      ]
    },
    {
      "cell_type": "markdown",
      "id": "9bf47949",
      "metadata": {
        "id": "9bf47949"
      },
      "source": [
        "## Python Basic Programming Assignment - 14\n",
        "---------------------"
      ]
    },
    {
      "cell_type": "markdown",
      "id": "a8074819",
      "metadata": {
        "id": "a8074819"
      },
      "source": [
        "### 1. Define a class with a generator which can iterate the numbers, which are divisible by 7, between a given range 0 and n."
      ]
    },
    {
      "cell_type": "code",
      "source": [
        "class genrator:\n",
        "  def __init__(self):\n",
        "    pass\n",
        "  def dividebyseven(self,n):\n",
        "    num = []\n",
        "    for i in range(n+1):\n",
        "      if i % 7 == 0:\n",
        "        num.append(i)\n",
        "    return num\n"
      ],
      "metadata": {
        "id": "TuxqRcPYPNb4"
      },
      "id": "TuxqRcPYPNb4",
      "execution_count": 35,
      "outputs": []
    },
    {
      "cell_type": "code",
      "source": [
        "a1 = genrator()"
      ],
      "metadata": {
        "id": "v7lZgLAEQUMA"
      },
      "id": "v7lZgLAEQUMA",
      "execution_count": 36,
      "outputs": []
    },
    {
      "cell_type": "code",
      "source": [
        "print(a1.dividebyseven(21))"
      ],
      "metadata": {
        "id": "wnfRr6ekSbTn",
        "outputId": "142b26dd-52fb-4708-c967-8cf10e212284",
        "colab": {
          "base_uri": "https://localhost:8080/"
        }
      },
      "id": "wnfRr6ekSbTn",
      "execution_count": 37,
      "outputs": [
        {
          "output_type": "stream",
          "name": "stdout",
          "text": [
            "[0, 7, 14, 21]\n"
          ]
        }
      ]
    },
    {
      "cell_type": "markdown",
      "id": "8127371b",
      "metadata": {
        "id": "8127371b"
      },
      "source": [
        "\n",
        "### 2. Write a program to compute the frequency of the words from the input. The output should output after sorting the key alphanumerically."
      ]
    },
    {
      "cell_type": "code",
      "source": [
        "insert_val = input('Enter the sentence: ')\n",
        "dict_word = {}\n",
        "for i in insert_val.split(' '):\n",
        "  if i in dict_word:\n",
        "    dict_word[i] = dict_word[i]+1\n",
        "  else:\n",
        "    dict_word[i] = 1\n",
        "\n",
        "a = sorted(list(dict_word.keys()))\n",
        "\n",
        "for i in a:\n",
        "  print(f'{i}:{dict_word[i]}') "
      ],
      "metadata": {
        "id": "TNFapV17Uilv",
        "outputId": "ca6a0a1e-e099-4ec9-a8ed-019b8962faeb",
        "colab": {
          "base_uri": "https://localhost:8080/"
        }
      },
      "id": "TNFapV17Uilv",
      "execution_count": 43,
      "outputs": [
        {
          "output_type": "stream",
          "name": "stdout",
          "text": [
            "Enter the sentence: this is a line with multipul words with repeated words\n",
            "a:1\n",
            "is:1\n",
            "line:1\n",
            "multipul:1\n",
            "repeated:1\n",
            "this:1\n",
            "with:2\n",
            "words:2\n"
          ]
        }
      ]
    },
    {
      "cell_type": "markdown",
      "id": "4e869c3c",
      "metadata": {
        "id": "4e869c3c"
      },
      "source": [
        "\n",
        "### 3. Define a class Person and its two child classes: Male and Female. All classes have a method \"getGender\" which can print \"Male\" for Male class and \"Female\" for Female class."
      ]
    },
    {
      "cell_type": "code",
      "source": [
        "class Person(object):\n",
        "    def getGender( self ):\n",
        "        return \"Unknown\"\n",
        "\n",
        "class Male( Person ):\n",
        "    def getGender( self ):\n",
        "        return \"Male\"\n",
        "\n",
        "class Female( Person ):\n",
        "    def getGender( self ):\n",
        "        return \"Female\"\n",
        "\n",
        "Male = Male()\n",
        "Female= Female()\n",
        "print(Male.getGender())\n",
        "print(Female.getGender())"
      ],
      "metadata": {
        "id": "D47yj8dPX9Yz",
        "outputId": "3692de2e-19ac-4109-c8d0-f086e86e58ea",
        "colab": {
          "base_uri": "https://localhost:8080/"
        }
      },
      "id": "D47yj8dPX9Yz",
      "execution_count": 45,
      "outputs": [
        {
          "output_type": "stream",
          "name": "stdout",
          "text": [
            "Male\n",
            "Female\n"
          ]
        }
      ]
    },
    {
      "cell_type": "markdown",
      "id": "58b5940f",
      "metadata": {
        "id": "58b5940f"
      },
      "source": [
        "\n",
        "### 4. Please write a program to generate all sentences where subject is in [\"I\", \"You\"] and verb is in ['Play', \"Love\"] and the object is in [\"Hockey\",\"Football\"]."
      ]
    },
    {
      "cell_type": "code",
      "source": [
        "subject = [\"I\", \"You\"]  \n",
        "verb = ['Play', \"Love\"] \n",
        "object = [\"Hockey\",\"Football\"]\n",
        "\n",
        "sbu = input('enter the subject value \\n: ').upper()\n",
        "ver = input('enter the verb value \\n: ')\n",
        "obj = input('enter the object value \\n: ')\n",
        "\n",
        "word = []\n",
        "\n",
        "if sbu in subject:\n",
        "  word.append(sbu)\n",
        "else:\n",
        "  print('enter correct input')\n",
        "\n",
        "if ver in verb:\n",
        "  word.append(ver)\n",
        "else:\n",
        "  print('enter correct input')\n",
        "\n",
        "if obj in object:\n",
        "  word.append(obj)\n",
        "else:\n",
        "  print('enter correct input')\n",
        "\n",
        "print(' '.join(word))"
      ],
      "metadata": {
        "id": "yAAohgLgYZlK",
        "outputId": "caae78f4-20b2-4320-a516-e010bb1a8e5a",
        "colab": {
          "base_uri": "https://localhost:8080/"
        }
      },
      "id": "yAAohgLgYZlK",
      "execution_count": 53,
      "outputs": [
        {
          "output_type": "stream",
          "name": "stdout",
          "text": [
            "enter the subject value \n",
            ": i\n",
            "enter the verb value \n",
            ": Love\n",
            "enter the object value \n",
            ": Hockey\n",
            "I Love Hockey\n"
          ]
        }
      ]
    },
    {
      "cell_type": "markdown",
      "id": "0ddf4f59",
      "metadata": {
        "id": "0ddf4f59"
      },
      "source": [
        "\n",
        "### 5. Please write a program to compress and decompress the string \"hello world!hello world!hello world!hello world!\""
      ]
    },
    {
      "cell_type": "code",
      "source": [
        "# import gzip and decompress\n",
        "import gzip\n",
        "s = b'This is GFG author, and final year student.'\n",
        "s = gzip.compress(s)\n",
        "print(s)  \n",
        "# using gzip.decompress(s) method\n",
        "t = gzip.decompress(s)\n",
        "print(t)"
      ],
      "metadata": {
        "id": "eL1m_eTvYa6h",
        "outputId": "a44122ee-67e3-4747-89ca-57ca58eeab3b",
        "colab": {
          "base_uri": "https://localhost:8080/"
        }
      },
      "id": "eL1m_eTvYa6h",
      "execution_count": 55,
      "outputs": [
        {
          "output_type": "stream",
          "name": "stdout",
          "text": [
            "b'\\x1f\\x8b\\x08\\x00\\xfd\\x07\\x9cc\\x02\\xff\\x0b\\xc9\\xc8,V\\x00\"w7w\\x85\\xc4\\xd2\\x92\\x8c\\xfc\"\\x1d\\x85\\xc4\\xbc\\x14\\x85\\xb4\\xcc\\xbc\\xc4\\x1c\\x85\\xca\\xd4\\xc4\"\\x85\\xe2\\x92\\xd2\\x94\\xd4\\xbc\\x12=\\x00\\xac\\xb4\\x8c\\x1d+\\x00\\x00\\x00'\n",
            "b'This is GFG author, and final year student.'\n"
          ]
        }
      ]
    },
    {
      "cell_type": "markdown",
      "id": "2aeb595b",
      "metadata": {
        "id": "2aeb595b"
      },
      "source": [
        "\n",
        "### 6. Please write a binary search function which searches an item in a sorted list. The function should return the index of element to be searched in the list."
      ]
    },
    {
      "cell_type": "code",
      "source": [
        "from bisect import bisect_left\n",
        " \n",
        "def BinarySearch(a, x):\n",
        "    i = bisect_left(a, x)\n",
        "    if i != len(a) and a[i] == x:\n",
        "        return i\n",
        "    else:\n",
        "        return -1\n",
        " \n",
        "a  = [1, 2, 4, 4, 8]\n",
        "x = int(4)\n",
        "res = BinarySearch(a, x)\n",
        "if res == -1:\n",
        "    print(x, \"is absent\")\n",
        "else:\n",
        "    print(\"First occurrence of\", x, \"is present at\", res)"
      ],
      "metadata": {
        "id": "XDyu1HwTYbuF",
        "outputId": "c2826851-80ed-43d3-b9b7-cf7a76fda2de",
        "colab": {
          "base_uri": "https://localhost:8080/"
        }
      },
      "id": "XDyu1HwTYbuF",
      "execution_count": 56,
      "outputs": [
        {
          "output_type": "stream",
          "name": "stdout",
          "text": [
            "First occurrence of 4 is present at 2\n"
          ]
        }
      ]
    },
    {
      "cell_type": "code",
      "source": [],
      "metadata": {
        "id": "QY6B_SAzaSt_"
      },
      "id": "QY6B_SAzaSt_",
      "execution_count": null,
      "outputs": []
    }
  ],
  "metadata": {
    "kernelspec": {
      "display_name": "Python 3 (ipykernel)",
      "language": "python",
      "name": "python3"
    },
    "language_info": {
      "codemirror_mode": {
        "name": "ipython",
        "version": 3
      },
      "file_extension": ".py",
      "mimetype": "text/x-python",
      "name": "python",
      "nbconvert_exporter": "python",
      "pygments_lexer": "ipython3",
      "version": "3.9.12"
    },
    "colab": {
      "provenance": [],
      "include_colab_link": true
    }
  },
  "nbformat": 4,
  "nbformat_minor": 5
}