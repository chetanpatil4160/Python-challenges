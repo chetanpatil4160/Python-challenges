{
  "cells": [
    {
      "cell_type": "markdown",
      "metadata": {
        "id": "view-in-github",
        "colab_type": "text"
      },
      "source": [
        "<a href=\"https://colab.research.google.com/github/chetanpatil4160/Python-challenges/blob/main/Python%20challenges%204.ipynb\" target=\"_parent\"><img src=\"https://colab.research.google.com/assets/colab-badge.svg\" alt=\"Open In Colab\"/></a>"
      ]
    },
    {
      "cell_type": "markdown",
      "id": "20cb4340",
      "metadata": {
        "id": "20cb4340"
      },
      "source": [
        "## Programming Assignment_4\n",
        "----------------"
      ]
    },
    {
      "cell_type": "markdown",
      "id": "4fdb6695",
      "metadata": {
        "id": "4fdb6695"
      },
      "source": [
        "### 1. Write a Python Program to Find the Factorial of a Number?"
      ]
    },
    {
      "cell_type": "code",
      "source": [
        "number = int(input('Enter Your Number: '))\n",
        "fact = 1\n",
        "while (number > 0):\n",
        "  fact = fact * number\n",
        "  number = number - 1\n",
        "print(fact)\n"
      ],
      "metadata": {
        "colab": {
          "base_uri": "https://localhost:8080/"
        },
        "id": "CScEOwtQig4e",
        "outputId": "9e3a58ca-7cc0-448d-b023-d3a4cfa16304"
      },
      "id": "CScEOwtQig4e",
      "execution_count": 6,
      "outputs": [
        {
          "output_type": "stream",
          "name": "stdout",
          "text": [
            "Enter Your Number: 5\n",
            "120\n"
          ]
        }
      ]
    },
    {
      "cell_type": "code",
      "source": [
        "number = int(input('Enter Your Number: '))\n",
        "fact = 1\n",
        "for i in range(1 , number+1):\n",
        "   fact = fact * i\n",
        "print(f'factorai of {number} is {fact}')"
      ],
      "metadata": {
        "colab": {
          "base_uri": "https://localhost:8080/"
        },
        "id": "FvSzvnv_jiaI",
        "outputId": "241f89ad-06b6-4f99-cce8-3f628fb1eb82"
      },
      "id": "FvSzvnv_jiaI",
      "execution_count": 11,
      "outputs": [
        {
          "output_type": "stream",
          "name": "stdout",
          "text": [
            "Enter Your Number: 4\n",
            "factorai of 4 is 24\n"
          ]
        }
      ]
    },
    {
      "cell_type": "markdown",
      "id": "e6beef62",
      "metadata": {
        "id": "e6beef62"
      },
      "source": [
        "### 2. Write a Python Program to Display the multiplication Table?"
      ]
    },
    {
      "cell_type": "code",
      "source": [
        "number = int(input('Enter Your Number: '))\n",
        "\n",
        "for i in range(1,11):\n",
        "  print(f'{number} x {i} = {number * i}')"
      ],
      "metadata": {
        "colab": {
          "base_uri": "https://localhost:8080/"
        },
        "id": "CkdngVG7kYUu",
        "outputId": "270f9697-e9ae-4a4f-cd37-8a702e5619bd"
      },
      "id": "CkdngVG7kYUu",
      "execution_count": 13,
      "outputs": [
        {
          "output_type": "stream",
          "name": "stdout",
          "text": [
            "Enter Your Number: 3\n",
            "3 x 1 = 3\n",
            "3 x 2 = 6\n",
            "3 x 3 = 9\n",
            "3 x 4 = 12\n",
            "3 x 5 = 15\n",
            "3 x 6 = 18\n",
            "3 x 7 = 21\n",
            "3 x 8 = 24\n",
            "3 x 9 = 27\n",
            "3 x 10 = 30\n"
          ]
        }
      ]
    },
    {
      "cell_type": "markdown",
      "id": "7de7eba5",
      "metadata": {
        "id": "7de7eba5"
      },
      "source": [
        "### 3. Write a Python Program to Print the Fibonacci sequence?\n"
      ]
    },
    {
      "cell_type": "code",
      "source": [
        "num = int(input('Enter your number: '))\n",
        "n1=0\n",
        "n2 = 1\n",
        "print(n1 , n2 , end = \" \" )\n",
        "for i in range(2,num):\n",
        "  n3 = n1 + n2\n",
        "  n1 = n2\n",
        "  n2 = n3\n",
        "  print(n3 , end = \" \")\n",
        "\n",
        "\n",
        "print( )"
      ],
      "metadata": {
        "colab": {
          "base_uri": "https://localhost:8080/"
        },
        "id": "3ru7EB9fmhGh",
        "outputId": "7a827c0a-7f92-4e0f-d7a9-e5bed5993216"
      },
      "id": "3ru7EB9fmhGh",
      "execution_count": 17,
      "outputs": [
        {
          "output_type": "stream",
          "name": "stdout",
          "text": [
            "Enter your number: 10\n",
            "0 1 1 2 3 5 8 13 21 34 \n"
          ]
        }
      ]
    },
    {
      "cell_type": "markdown",
      "id": "0446442e",
      "metadata": {
        "id": "0446442e"
      },
      "source": [
        "### 4. Write a Python Program to Check Armstrong Number?"
      ]
    },
    {
      "cell_type": "code",
      "source": [
        "num = input('Enter your number : ')\n",
        "num2 = int(num)\n",
        "arm = 0\n",
        "num1=int(len(num))\n",
        "\n",
        "for i in num:\n",
        "  arm= arm + int(i)**num1\n",
        "print(arm)\n",
        "\n",
        "\n",
        "if num2 == arm:\n",
        "  print('It is Armstrong Number')\n",
        "else:\n",
        "  print('Its not a armstrong number')\n",
        "\n",
        "  "
      ],
      "metadata": {
        "colab": {
          "base_uri": "https://localhost:8080/"
        },
        "id": "zFrsg02gn0js",
        "outputId": "10477edb-1ea1-49b8-915f-b0a95b415b3c"
      },
      "id": "zFrsg02gn0js",
      "execution_count": 47,
      "outputs": [
        {
          "output_type": "stream",
          "name": "stdout",
          "text": [
            "Enter your number : 153\n",
            "153\n",
            "It is Armstrong Number\n"
          ]
        }
      ]
    },
    {
      "cell_type": "markdown",
      "id": "a6f9adfe",
      "metadata": {
        "id": "a6f9adfe"
      },
      "source": [
        "### 5. Write a Python Program to Find Armstrong Number in an Interval?"
      ]
    },
    {
      "cell_type": "code",
      "source": [
        "lower = int(input('Enter  lower limit: '))\n",
        "upper = int(input('Enter upper limit : '))\n",
        "\n",
        "for num in range(lower ,upper+1 ):\n",
        "  \n",
        "  power = len(str(num))\n",
        "\n",
        "  temp = num\n",
        "  sum= 0\n",
        "  while(temp > 0):\n",
        "    digit = temp % 10\n",
        "    sum = sum + digit **power\n",
        "    temp = temp // 10\n",
        "  if num == sum:\n",
        "    print( num , end =\" \")"
      ],
      "metadata": {
        "colab": {
          "base_uri": "https://localhost:8080/"
        },
        "id": "OZgRm0A7s7r4",
        "outputId": "8700aa06-bf29-404c-ead1-1cbedb1fd11a"
      },
      "id": "OZgRm0A7s7r4",
      "execution_count": 64,
      "outputs": [
        {
          "output_type": "stream",
          "name": "stdout",
          "text": [
            "Enter  lower limit: 1\n",
            "Enter upper limit : 160\n",
            "1 2 3 4 5 6 7 8 9 153 "
          ]
        }
      ]
    },
    {
      "cell_type": "markdown",
      "id": "157cad60",
      "metadata": {
        "id": "157cad60"
      },
      "source": [
        "### 6. Write a Python Program to Find the Sum of Natural Numbers?"
      ]
    },
    {
      "cell_type": "code",
      "source": [
        "number = int(input('Enter your number: '))\n",
        "sum = 0\n",
        "\n",
        "for i in range(1 , number+1):\n",
        "  sum = sum + i\n",
        "print(f' sum of first {number} natural number is {sum}')"
      ],
      "metadata": {
        "colab": {
          "base_uri": "https://localhost:8080/"
        },
        "id": "7AQU0TuwsjMP",
        "outputId": "33a1952c-fe3d-4e41-edde-8f44a3bc05b8"
      },
      "id": "7AQU0TuwsjMP",
      "execution_count": 62,
      "outputs": [
        {
          "output_type": "stream",
          "name": "stdout",
          "text": [
            "Enter your number: 10\n",
            " sum of first 10 natural number is 55\n"
          ]
        }
      ]
    },
    {
      "cell_type": "code",
      "source": [],
      "metadata": {
        "id": "rJDLE-H-xFvL"
      },
      "id": "rJDLE-H-xFvL",
      "execution_count": null,
      "outputs": []
    }
  ],
  "metadata": {
    "kernelspec": {
      "display_name": "Python 3 (ipykernel)",
      "language": "python",
      "name": "python3"
    },
    "language_info": {
      "codemirror_mode": {
        "name": "ipython",
        "version": 3
      },
      "file_extension": ".py",
      "mimetype": "text/x-python",
      "name": "python",
      "nbconvert_exporter": "python",
      "pygments_lexer": "ipython3",
      "version": "3.9.12"
    },
    "colab": {
      "provenance": [],
      "include_colab_link": true
    }
  },
  "nbformat": 4,
  "nbformat_minor": 5
}