{
  "cells": [
    {
      "cell_type": "markdown",
      "metadata": {
        "id": "view-in-github",
        "colab_type": "text"
      },
      "source": [
        "<a href=\"https://colab.research.google.com/github/chetanpatil4160/Python-challenges/blob/main/python%20challenge%2012.ipynb\" target=\"_parent\"><img src=\"https://colab.research.google.com/assets/colab-badge.svg\" alt=\"Open In Colab\"/></a>"
      ]
    },
    {
      "cell_type": "markdown",
      "id": "b7231b20",
      "metadata": {
        "id": "b7231b20"
      },
      "source": [
        "# Python Basic Programming Assignment 12\n",
        "-------------"
      ]
    },
    {
      "cell_type": "markdown",
      "id": "d2ec324d",
      "metadata": {
        "id": "d2ec324d"
      },
      "source": [
        "### 1. Write a Python program to Extract Unique values dictionary values?"
      ]
    },
    {
      "cell_type": "code",
      "source": [
        "dictnary = {'gfg': [5, 6, 7, 8], 'is': [10, 11, 7, 5], 'best': [6, 12, 10, 8], 'for': [1, 2, 5]}"
      ],
      "metadata": {
        "id": "2_kgML_-4m94"
      },
      "id": "2_kgML_-4m94",
      "execution_count": 7,
      "outputs": []
    },
    {
      "cell_type": "code",
      "source": [
        "dict_val = []\n",
        "unique = []\n",
        "for values in dictnary.values():\n",
        "  dict_val.extend(values) \n",
        "for i in dict_val:\n",
        "  if i not in unique:\n",
        "    unique.append(i)\n",
        "  else:\n",
        "    pass\n",
        "print(sorted(unique))"
      ],
      "metadata": {
        "colab": {
          "base_uri": "https://localhost:8080/"
        },
        "id": "7uVET9y_5m9e",
        "outputId": "7da351f3-e7d5-4831-ec3d-e18e6db71ffa"
      },
      "id": "7uVET9y_5m9e",
      "execution_count": 14,
      "outputs": [
        {
          "output_type": "stream",
          "name": "stdout",
          "text": [
            "[1, 2, 5, 6, 7, 8, 10, 11, 12]\n"
          ]
        }
      ]
    },
    {
      "cell_type": "markdown",
      "id": "203bcbc3",
      "metadata": {
        "id": "203bcbc3"
      },
      "source": [
        "### 2. Write a Python program to find the sum of all items in a dictionary?"
      ]
    },
    {
      "cell_type": "code",
      "source": [
        "dictnary = {'gfg': [5, 6, 7, 8], 'is': [10, 11, 7, 5], 'best': [6, 12, 10, 8], 'for': [1, 2, 5]}\n",
        "dict_val = []\n",
        "sum = 0 \n",
        "for i in dictnary.values():\n",
        "  dict_val.extend(i)\n",
        "for i in dict_val:\n",
        "  sum = sum +i\n",
        "print(sum)"
      ],
      "metadata": {
        "colab": {
          "base_uri": "https://localhost:8080/"
        },
        "id": "KRCcubAy4n0S",
        "outputId": "a74fc6e5-007d-43a0-94aa-f6dd2ed8ffc7"
      },
      "id": "KRCcubAy4n0S",
      "execution_count": 17,
      "outputs": [
        {
          "output_type": "stream",
          "name": "stdout",
          "text": [
            "103\n"
          ]
        }
      ]
    },
    {
      "cell_type": "markdown",
      "id": "edfbc682",
      "metadata": {
        "id": "edfbc682"
      },
      "source": [
        "### 3. Write a Python program to Merging two Dictionaries?"
      ]
    },
    {
      "cell_type": "code",
      "source": [
        "dict_1 = {1: 'a', 2: 'b'}\n",
        "dict_2 = {2: 'c', 4: 'd'}\n",
        "\n",
        "dict_1.update(dict_2) \n",
        "print(dict_1)"
      ],
      "metadata": {
        "colab": {
          "base_uri": "https://localhost:8080/"
        },
        "id": "jlGqq4j34pTi",
        "outputId": "767f0e94-004e-465e-ba1f-80d01893d0dc"
      },
      "id": "jlGqq4j34pTi",
      "execution_count": 20,
      "outputs": [
        {
          "output_type": "stream",
          "name": "stdout",
          "text": [
            "{1: 'a', 2: 'c', 4: 'd'}\n"
          ]
        }
      ]
    },
    {
      "cell_type": "code",
      "source": [
        "for i in dict_2.items():\n",
        "  dict_1[i[0]] = i[1]\n",
        "print(dict_1)"
      ],
      "metadata": {
        "colab": {
          "base_uri": "https://localhost:8080/"
        },
        "id": "FotxZVzGFzs6",
        "outputId": "6e5b8142-bf62-47f7-d047-d30e7d0b6906"
      },
      "id": "FotxZVzGFzs6",
      "execution_count": 21,
      "outputs": [
        {
          "output_type": "stream",
          "name": "stdout",
          "text": [
            "{1: 'a', 2: 'c', 4: 'd'}\n"
          ]
        }
      ]
    },
    {
      "cell_type": "markdown",
      "id": "62eaf687",
      "metadata": {
        "id": "62eaf687"
      },
      "source": [
        "### 4. Write a Python program to convert key-values list to flat dictionary?"
      ]
    },
    {
      "cell_type": "code",
      "source": [
        "dic= { \"day\": [1, 2, 3], \"name\": ['Mon', 'Tues', 'Wed' ] }\n",
        "print(\"Original dictionary: \",dic)\n",
        "\n",
        "# convert to flat dictionary\n",
        "\n",
        "f_dic= dict(zip(dic[\"day\"], dic[\"name\"]))\n",
        "print(\"FLATTENED DICTIONARY: \", f_dic)"
      ],
      "metadata": {
        "colab": {
          "base_uri": "https://localhost:8080/"
        },
        "id": "ySBxztq14p6a",
        "outputId": "1fc6bec0-83b4-4eef-839e-5760e329f04c"
      },
      "id": "ySBxztq14p6a",
      "execution_count": 38,
      "outputs": [
        {
          "output_type": "stream",
          "name": "stdout",
          "text": [
            "Original dictionary:  {'day': [1, 2, 3], 'name': ['Mon', 'Tues', 'Wed']}\n",
            "FLATTENED DICTIONARY:  {1: 'Mon', 2: 'Tues', 3: 'Wed'}\n"
          ]
        }
      ]
    },
    {
      "cell_type": "markdown",
      "id": "fcc5015f",
      "metadata": {
        "id": "fcc5015f"
      },
      "source": [
        "### 5. Write a Python program to insertion at the beginning in OrderedDict?"
      ]
    },
    {
      "cell_type": "code",
      "source": [
        "from collections import OrderedDict  \n",
        "dic1 = OrderedDict([('A', '100'), ('B', '200'), ('C', '300')])\n",
        "\n",
        "dic1.update({\"D\": '400'})\n",
        "print(dic1)\n",
        "\n",
        "dic1.move_to_end(\"D\", last=False)\n",
        "  \n",
        "\n",
        "print (\"Resultant Dictionary :\")\n",
        "print(dic1)"
      ],
      "metadata": {
        "colab": {
          "base_uri": "https://localhost:8080/"
        },
        "id": "Sh2X1QDf4qzn",
        "outputId": "66c60b9a-1ef6-4307-b064-9e0f9f805bd2"
      },
      "id": "Sh2X1QDf4qzn",
      "execution_count": 22,
      "outputs": [
        {
          "output_type": "stream",
          "name": "stdout",
          "text": [
            "OrderedDict([('A', '100'), ('B', '200'), ('C', '300'), ('D', '400')])\n",
            "Resultant Dictionary :\n",
            "OrderedDict([('D', '400'), ('A', '100'), ('B', '200'), ('C', '300')])\n"
          ]
        }
      ]
    },
    {
      "cell_type": "markdown",
      "id": "5978c9ab",
      "metadata": {
        "id": "5978c9ab"
      },
      "source": [
        "### 6. Write a Python program to check order of character in string using OrderedDict()?"
      ]
    },
    {
      "cell_type": "code",
      "source": [
        "from collections import OrderedDict\n",
        "def check_order(my_input, my_pattern):\n",
        "   my_dict = OrderedDict.fromkeys(my_input)\n",
        "   pattern_length = 0\n",
        "   for key,value in my_dict.items():\n",
        "      if (key == my_pattern[pattern_length]):\n",
        "         pattern_length = pattern_length + 1\n",
        "\n",
        "      if (pattern_length == (len(my_pattern))):\n",
        "         return 'The order of pattern is correct'\n",
        "\n",
        "   return 'The order of pattern is incorrect'\n",
        "\n",
        "my_input = 'Hi Mark'\n",
        "input_pattern = 'Ma'\n",
        "print(\"The string is \")\n",
        "print(my_input)\n",
        "print(\"The input pattern is \")\n",
        "print(input_pattern)\n",
        "print(check_order(my_input,input_pattern))"
      ],
      "metadata": {
        "colab": {
          "base_uri": "https://localhost:8080/"
        },
        "id": "7yrOZnHD4uX8",
        "outputId": "64879abc-9c57-4936-f2a7-18ca0a1f12b0"
      },
      "id": "7yrOZnHD4uX8",
      "execution_count": 23,
      "outputs": [
        {
          "output_type": "stream",
          "name": "stdout",
          "text": [
            "The string is \n",
            "Hi Mark\n",
            "The input pattern is \n",
            "Ma\n",
            "The order of pattern is correct\n"
          ]
        }
      ]
    },
    {
      "cell_type": "markdown",
      "id": "f330da77",
      "metadata": {
        "id": "f330da77"
      },
      "source": [
        "### 7. Write a Python program to sort Python Dictionaries by Key or Value?"
      ]
    },
    {
      "cell_type": "code",
      "source": [
        "color_dict = {'red':'#FF0000',\n",
        "          'green':'#008000',\n",
        "          'black':'#000000',\n",
        "          'white':'#FFFFFF'}\n",
        "\n",
        "for key in sorted(color_dict):\n",
        "  print(\"%s: %s\" % (key, color_dict[key]))"
      ],
      "metadata": {
        "colab": {
          "base_uri": "https://localhost:8080/"
        },
        "id": "TY5btGrC4vUo",
        "outputId": "dcc46384-ec8f-461d-c30e-e5b310239956"
      },
      "id": "TY5btGrC4vUo",
      "execution_count": 36,
      "outputs": [
        {
          "output_type": "stream",
          "name": "stdout",
          "text": [
            "black: #000000\n",
            "green: #008000\n",
            "red: #FF0000\n",
            "white: #FFFFFF\n"
          ]
        }
      ]
    }
  ],
  "metadata": {
    "kernelspec": {
      "display_name": "Python 3 (ipykernel)",
      "language": "python",
      "name": "python3"
    },
    "language_info": {
      "codemirror_mode": {
        "name": "ipython",
        "version": 3
      },
      "file_extension": ".py",
      "mimetype": "text/x-python",
      "name": "python",
      "nbconvert_exporter": "python",
      "pygments_lexer": "ipython3",
      "version": "3.9.12"
    },
    "colab": {
      "provenance": [],
      "include_colab_link": true
    }
  },
  "nbformat": 4,
  "nbformat_minor": 5
}