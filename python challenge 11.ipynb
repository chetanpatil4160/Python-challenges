{
  "cells": [
    {
      "cell_type": "markdown",
      "metadata": {
        "id": "view-in-github",
        "colab_type": "text"
      },
      "source": [
        "<a href=\"https://colab.research.google.com/github/chetanpatil4160/Python-challenges/blob/main/pyhthon%20challenge%2011.ipynb\" target=\"_parent\"><img src=\"https://colab.research.google.com/assets/colab-badge.svg\" alt=\"Open In Colab\"/></a>"
      ]
    },
    {
      "cell_type": "markdown",
      "id": "53c7e882",
      "metadata": {
        "id": "53c7e882"
      },
      "source": [
        "# Python Basic Programming Assignment 11\n",
        "--------------------"
      ]
    },
    {
      "cell_type": "markdown",
      "id": "051da140",
      "metadata": {
        "id": "051da140"
      },
      "source": [
        "### 1. Write a Python program to find words which are greater than given length k?"
      ]
    },
    {
      "cell_type": "code",
      "source": [
        "str1 = input('Enter your string: ')\n",
        "k = int(input('Enter the number: '))\n",
        "str2 = str1.split(' ')\n",
        "str3 = ''\n",
        "\n",
        "for i in str2:\n",
        "  if len(i) >= k:\n",
        "    str3 = str3 + ' ' + i \n",
        "print(str3)"
      ],
      "metadata": {
        "id": "woHb4pz5Nq4H",
        "outputId": "1c0d8d1d-1de3-4748-8cd6-d772f62e8a82",
        "colab": {
          "base_uri": "https://localhost:8080/"
        }
      },
      "id": "woHb4pz5Nq4H",
      "execution_count": 18,
      "outputs": [
        {
          "output_type": "stream",
          "name": "stdout",
          "text": [
            "Enter your string: hello my name is chetan ishwar patil\n",
            "Enter the number: 4\n",
            " hello name chetan ishwar patil\n"
          ]
        }
      ]
    },
    {
      "cell_type": "markdown",
      "id": "26719cbd",
      "metadata": {
        "id": "26719cbd"
      },
      "source": [
        "### 2. Write a Python program for removing i-th character from a string?"
      ]
    },
    {
      "cell_type": "code",
      "source": [
        "str1 = input('Enter your string: ')\n",
        "k = int(input('Enter the number: '))\n",
        "d = str1[:k] + str1[k+1:]\n",
        "print(d)"
      ],
      "metadata": {
        "id": "AKOrMgTGOc_c",
        "outputId": "3ea6d31b-f370-4d42-de76-2e4d83530ead",
        "colab": {
          "base_uri": "https://localhost:8080/"
        }
      },
      "id": "AKOrMgTGOc_c",
      "execution_count": 20,
      "outputs": [
        {
          "output_type": "stream",
          "name": "stdout",
          "text": [
            "Enter your string: chetan\n",
            "Enter the number: 2\n",
            "chtan\n"
          ]
        }
      ]
    },
    {
      "cell_type": "markdown",
      "id": "51ae6b0f",
      "metadata": {
        "id": "51ae6b0f"
      },
      "source": [
        "### 3. Write a Python program to split and join a string?"
      ]
    },
    {
      "cell_type": "code",
      "source": [
        "str1 = input('Enter your string: ')\n",
        "str2 = str1.split(' ')\n",
        "str3 = \" \".join(str2)\n",
        "print(str2)\n",
        "print(str3)"
      ],
      "metadata": {
        "id": "eykSJgbLOxcP",
        "outputId": "3fe57e7c-dcd1-45e1-a148-318574231875",
        "colab": {
          "base_uri": "https://localhost:8080/"
        }
      },
      "id": "eykSJgbLOxcP",
      "execution_count": 21,
      "outputs": [
        {
          "output_type": "stream",
          "name": "stdout",
          "text": [
            "Enter your string: hello my name is chetan ishwar patil\n",
            "['hello', 'my', 'name', 'is', 'chetan', 'ishwar', 'patil']\n",
            "hello my name is chetan ishwar patil\n"
          ]
        }
      ]
    },
    {
      "cell_type": "markdown",
      "id": "59079fe1",
      "metadata": {
        "id": "59079fe1"
      },
      "source": [
        "### 4. Write a Python to check if a given string is binary string or not?"
      ]
    },
    {
      "cell_type": "code",
      "source": [
        "str1 = input('Enter your string: ')\n",
        "count = 0\n",
        "for i in str1:\n",
        "  if i!= '0' and i != '1':\n",
        "    count=1\n",
        "    break\n",
        "if count == 0:\n",
        "  print('it is binary')\n",
        "else:\n",
        "  print('not binary')"
      ],
      "metadata": {
        "id": "jZ1WmPQ_PLFd",
        "outputId": "8c07c446-e266-46da-bf32-4b7fa38482a6",
        "colab": {
          "base_uri": "https://localhost:8080/"
        }
      },
      "id": "jZ1WmPQ_PLFd",
      "execution_count": 23,
      "outputs": [
        {
          "output_type": "stream",
          "name": "stdout",
          "text": [
            "Enter your string:  h1010101\n",
            "not binary\n"
          ]
        }
      ]
    },
    {
      "cell_type": "markdown",
      "id": "4d6cf11a",
      "metadata": {
        "id": "4d6cf11a"
      },
      "source": [
        "### 5. Write a Python program to find uncommon words from two Strings?"
      ]
    },
    {
      "cell_type": "code",
      "source": [
        "str1 = input('Enter the string: ').split(' ')\n",
        "str2 = input('Enter the string: ').split(' ')\n",
        "uncommon_word = []\n",
        "for i in str1:\n",
        "  if i in str2:\n",
        "    pass\n",
        "  else:\n",
        "    uncommon_word.append(i)\n",
        "for i in str2:\n",
        "  if i in str1:\n",
        "    pass\n",
        "  else:\n",
        "    uncommon_word.append(i)\n",
        "print(uncommon_word)\n"
      ],
      "metadata": {
        "id": "Sl5HHpY2SXZG",
        "outputId": "4dc972ec-f629-4025-e06f-02073ba96b76",
        "colab": {
          "base_uri": "https://localhost:8080/"
        }
      },
      "id": "Sl5HHpY2SXZG",
      "execution_count": 28,
      "outputs": [
        {
          "output_type": "stream",
          "name": "stdout",
          "text": [
            "Enter the string: chetan ishwar patil\n",
            "Enter the string: dinesh ishwar patil\n",
            "['chetan', 'dinesh']\n"
          ]
        }
      ]
    },
    {
      "cell_type": "markdown",
      "id": "e2b24677",
      "metadata": {
        "id": "e2b24677"
      },
      "source": [
        "### 6. Write a Python to find all duplicate characters in string?"
      ]
    },
    {
      "cell_type": "code",
      "source": [
        "a = input('Enter the String: ')\n",
        "temp = a\n",
        "c={}\n",
        "for i in a:\n",
        "  if i in c:\n",
        "    c[i] = c[i] +1\n",
        "  else:\n",
        "    c[i] = 1\n",
        "list_duplicate = []\n",
        "for i in c.items():\n",
        "  if i[1] >=2:\n",
        "    list_duplicate.append(i[0])\n",
        "print(list_duplicate)"
      ],
      "metadata": {
        "id": "iH6CSorVWTg_",
        "outputId": "17b71a31-ca2c-430a-9fa6-5a5313fd864b",
        "colab": {
          "base_uri": "https://localhost:8080/"
        }
      },
      "id": "iH6CSorVWTg_",
      "execution_count": 38,
      "outputs": [
        {
          "output_type": "stream",
          "name": "stdout",
          "text": [
            "Enter the String: TutorialsPoint\n",
            "['t', 'o', 'i']\n"
          ]
        }
      ]
    },
    {
      "cell_type": "markdown",
      "id": "1a6af7e4",
      "metadata": {
        "id": "1a6af7e4"
      },
      "source": [
        "### 7. Write a Python Program to check if a string contains any special character?"
      ]
    },
    {
      "cell_type": "code",
      "source": [
        "import re\n",
        "\n",
        "def check_string(my_string):\n",
        "\n",
        "   regex = re.compile('[@_!#$%^&*()<>?/\\|}{~:]')\n",
        "   if(regex.search(my_string) == None):\n",
        "      print(\"String contains special characters.\")\n",
        "   else:\n",
        "      print(\"String does not contain any special character.\")\n",
        "\n",
        "my_string = \"PythonInterpreter\"\n",
        "print(\"The string is :\")\n",
        "print(my_string)\n",
        "check_string(my_string)"
      ],
      "metadata": {
        "id": "tjbmf0bnc0BZ",
        "outputId": "ccf84aa4-fb98-4ba0-ff05-925b2fddc5d5",
        "colab": {
          "base_uri": "https://localhost:8080/"
        }
      },
      "id": "tjbmf0bnc0BZ",
      "execution_count": 47,
      "outputs": [
        {
          "output_type": "stream",
          "name": "stdout",
          "text": [
            "The string is :\n",
            "PythonInterpreter\n",
            "String contains special characters.\n"
          ]
        }
      ]
    },
    {
      "cell_type": "code",
      "source": [],
      "metadata": {
        "id": "T5Q3RDr7drU1"
      },
      "id": "T5Q3RDr7drU1",
      "execution_count": null,
      "outputs": []
    }
  ],
  "metadata": {
    "kernelspec": {
      "display_name": "Python 3 (ipykernel)",
      "language": "python",
      "name": "python3"
    },
    "language_info": {
      "codemirror_mode": {
        "name": "ipython",
        "version": 3
      },
      "file_extension": ".py",
      "mimetype": "text/x-python",
      "name": "python",
      "nbconvert_exporter": "python",
      "pygments_lexer": "ipython3",
      "version": "3.9.12"
    },
    "colab": {
      "provenance": [],
      "include_colab_link": true
    }
  },
  "nbformat": 4,
  "nbformat_minor": 5
}
