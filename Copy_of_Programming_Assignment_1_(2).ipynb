{
  "cells": [
    {
      "cell_type": "markdown",
      "metadata": {
        "id": "view-in-github",
        "colab_type": "text"
      },
      "source": [
        "<a href=\"https://colab.research.google.com/github/chetanpatil4160/Python-challenges/blob/main/Copy_of_Programming_Assignment_1_(2).ipynb\" target=\"_parent\"><img src=\"https://colab.research.google.com/assets/colab-badge.svg\" alt=\"Open In Colab\"/></a>"
      ]
    },
    {
      "cell_type": "markdown",
      "id": "637b47a5",
      "metadata": {
        "id": "637b47a5"
      },
      "source": [
        "## Programming Assignment_1\n",
        "-------------"
      ]
    },
    {
      "cell_type": "markdown",
      "id": "0c647dbe",
      "metadata": {
        "id": "0c647dbe"
      },
      "source": [
        "### 1. Write a Python program to print \"Hello Python\"?"
      ]
    },
    {
      "cell_type": "code",
      "source": [
        "A = 'Hello Python'\n",
        "print(A)"
      ],
      "metadata": {
        "id": "Um7wbQkLZu0P",
        "outputId": "ad6dc09a-0adb-40e1-a587-e6beffc29348",
        "colab": {
          "base_uri": "https://localhost:8080/"
        }
      },
      "id": "Um7wbQkLZu0P",
      "execution_count": null,
      "outputs": [
        {
          "output_type": "stream",
          "name": "stdout",
          "text": [
            "Hello Python\n"
          ]
        }
      ]
    },
    {
      "cell_type": "markdown",
      "id": "fc18a6cd",
      "metadata": {
        "id": "fc18a6cd"
      },
      "source": [
        "### 2. Write a Python program to do arithmetical operations addition and division.?\n"
      ]
    },
    {
      "cell_type": "code",
      "source": [
        "a = int(input('Enter your first Number: '))\n",
        "b= int(input('Enter your Second Number: '))\n",
        "\n",
        "add = a+b\n",
        "div = a/b\n",
        "\n",
        "print('Addition of two numbers is ',add)\n",
        "print('division of two numbers is ',div)"
      ],
      "metadata": {
        "id": "ZpDNJOTjZ71Q",
        "outputId": "4e779cac-b9e8-4b1f-e33b-b3c4bab55bad",
        "colab": {
          "base_uri": "https://localhost:8080/"
        }
      },
      "id": "ZpDNJOTjZ71Q",
      "execution_count": null,
      "outputs": [
        {
          "output_type": "stream",
          "name": "stdout",
          "text": [
            "Enter your first Number: 4\n",
            "Enter your Second Number: 5\n",
            "Addition of two numbers is  9\n",
            "division of two numbers is  0.8\n"
          ]
        }
      ]
    },
    {
      "cell_type": "markdown",
      "id": "af6e2429",
      "metadata": {
        "id": "af6e2429"
      },
      "source": [
        "### 3. Write a Python program to find the area of a triangle?\n"
      ]
    },
    {
      "cell_type": "code",
      "source": [
        "h = int(input('Enter the height of triangle: '))\n",
        "b = int(input('Enter the base of triangle: '))\n",
        "\n",
        "area = 0.5 * h * b\n",
        "\n",
        "print('the area of triangle is' ,area)"
      ],
      "metadata": {
        "id": "6IK0LFABa_6d",
        "outputId": "1f013110-4ab9-4a56-cd26-1cbbb982256b",
        "colab": {
          "base_uri": "https://localhost:8080/"
        }
      },
      "id": "6IK0LFABa_6d",
      "execution_count": null,
      "outputs": [
        {
          "output_type": "stream",
          "name": "stdout",
          "text": [
            "Enter the height of triangle: 3\n",
            "Enter the base of triangle: 4\n",
            "the area of triangle is 6.0\n"
          ]
        }
      ]
    },
    {
      "cell_type": "markdown",
      "id": "b8140061",
      "metadata": {
        "id": "b8140061"
      },
      "source": [
        "### 4. Write a Python program to swap two variables?\n"
      ]
    },
    {
      "cell_type": "code",
      "source": [
        "x=int(input('Enter value of x : '))\n",
        "y=int(input('Enter value of y : '))\n",
        "\n",
        "temp =x\n",
        "x=y\n",
        "y=temp\n",
        "\n",
        "print('valur of x after swapping',x)\n",
        "print('valur of y after swapping',y)"
      ],
      "metadata": {
        "id": "HDUukkI2brdj",
        "outputId": "36666ff3-03c2-40ae-b989-f921a74c0380",
        "colab": {
          "base_uri": "https://localhost:8080/"
        }
      },
      "id": "HDUukkI2brdj",
      "execution_count": null,
      "outputs": [
        {
          "output_type": "stream",
          "name": "stdout",
          "text": [
            "Enter value of x : 4\n",
            "Enter value of y : 5\n",
            "valur of x after swapping 5\n",
            "valur of y after swapping 4\n"
          ]
        }
      ]
    },
    {
      "cell_type": "markdown",
      "id": "3f8054c1",
      "metadata": {
        "id": "3f8054c1"
      },
      "source": [
        "### 5. Write a Python program to generate a random number?\n"
      ]
    },
    {
      "cell_type": "code",
      "source": [
        "import numpy as np \n",
        "\n",
        "a = np.random.randint(10)\n",
        "print('value of a is: ',a)"
      ],
      "metadata": {
        "id": "KX_ojSaRdGda",
        "outputId": "7bfc08f5-aca1-4eeb-f893-1f7568106f56",
        "colab": {
          "base_uri": "https://localhost:8080/"
        }
      },
      "id": "KX_ojSaRdGda",
      "execution_count": null,
      "outputs": [
        {
          "output_type": "stream",
          "name": "stdout",
          "text": [
            "value of a is:  3\n"
          ]
        }
      ]
    }
  ],
  "metadata": {
    "kernelspec": {
      "display_name": "Python 3 (ipykernel)",
      "language": "python",
      "name": "python3"
    },
    "language_info": {
      "codemirror_mode": {
        "name": "ipython",
        "version": 3
      },
      "file_extension": ".py",
      "mimetype": "text/x-python",
      "name": "python",
      "nbconvert_exporter": "python",
      "pygments_lexer": "ipython3",
      "version": "3.9.12"
    },
    "colab": {
      "provenance": [],
      "include_colab_link": true
    }
  },
  "nbformat": 4,
  "nbformat_minor": 5
}