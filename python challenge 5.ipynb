{
  "cells": [
    {
      "cell_type": "markdown",
      "metadata": {
        "id": "view-in-github",
        "colab_type": "text"
      },
      "source": [
        "<a href=\"https://colab.research.google.com/github/chetanpatil4160/Python-challenges/blob/main/python%20challeng%205.ipynb\" target=\"_parent\"><img src=\"https://colab.research.google.com/assets/colab-badge.svg\" alt=\"Open In Colab\"/></a>"
      ]
    },
    {
      "cell_type": "markdown",
      "id": "4ac9602a",
      "metadata": {
        "id": "4ac9602a"
      },
      "source": [
        "## Python Basic Programming Assignment - 5\n",
        "--------------\n"
      ]
    },
    {
      "cell_type": "markdown",
      "id": "fdaeee06",
      "metadata": {
        "id": "fdaeee06"
      },
      "source": [
        "### 1. Write a Python Program to Find LCM?"
      ]
    },
    {
      "cell_type": "code",
      "source": [
        "def lcm_of_two_number(a,b):\n",
        "  if a > b :\n",
        "    max = a\n",
        "  else:\n",
        "    max = b\n",
        "\n",
        "  while(True):\n",
        "    if (max % a == 0 and max % b == 0):\n",
        "      lcm  = max\n",
        "      break\n",
        "    max = max+1\n",
        "  return lcm"
      ],
      "metadata": {
        "id": "llywyr-4L3o0"
      },
      "id": "llywyr-4L3o0",
      "execution_count": 9,
      "outputs": []
    },
    {
      "cell_type": "code",
      "source": [
        "lcm_of_two_number(3,4)"
      ],
      "metadata": {
        "colab": {
          "base_uri": "https://localhost:8080/"
        },
        "id": "6P6iw2KKNljF",
        "outputId": "e06de19a-f8ce-4d28-8c73-b55c54c62310"
      },
      "id": "6P6iw2KKNljF",
      "execution_count": 10,
      "outputs": [
        {
          "output_type": "execute_result",
          "data": {
            "text/plain": [
              "12"
            ]
          },
          "metadata": {},
          "execution_count": 10
        }
      ]
    },
    {
      "cell_type": "markdown",
      "id": "2f459cdf",
      "metadata": {
        "id": "2f459cdf"
      },
      "source": [
        "### 2. Write a Python Program to Find HCF?"
      ]
    },
    {
      "cell_type": "code",
      "source": [
        "def hcf_of_two_number(a,b):\n",
        "  if a<b:\n",
        "    min = a\n",
        "  else:\n",
        "    min = b\n",
        "\n",
        "  for i in range(1 , min+1):\n",
        "    if (a%i == 0 and b%i == 0):\n",
        "      hcf = i\n",
        "  return hcf"
      ],
      "metadata": {
        "id": "GZ3h9KWSQ0c3"
      },
      "id": "GZ3h9KWSQ0c3",
      "execution_count": 12,
      "outputs": []
    },
    {
      "cell_type": "code",
      "source": [
        "hcf_of_two_number(15,30)"
      ],
      "metadata": {
        "colab": {
          "base_uri": "https://localhost:8080/"
        },
        "id": "FgKTajKPTNzy",
        "outputId": "d64a11ae-4b6c-41d6-8f0c-00f7b987f67f"
      },
      "id": "FgKTajKPTNzy",
      "execution_count": 15,
      "outputs": [
        {
          "output_type": "execute_result",
          "data": {
            "text/plain": [
              "15"
            ]
          },
          "metadata": {},
          "execution_count": 15
        }
      ]
    },
    {
      "cell_type": "markdown",
      "id": "d2c29370",
      "metadata": {
        "id": "d2c29370"
      },
      "source": [
        "### 3. Write a Python Program to Convert Decimal to Binary, Octal and Hexadecimal?"
      ]
    },
    {
      "cell_type": "code",
      "source": [],
      "metadata": {
        "colab": {
          "base_uri": "https://localhost:8080/"
        },
        "id": "rxZ7UZzWTnc1",
        "outputId": "c9da82fb-6277-48ca-d11b-decc98992092"
      },
      "id": "rxZ7UZzWTnc1",
      "execution_count": 20,
      "outputs": [
        {
          "output_type": "execute_result",
          "data": {
            "text/plain": [
              "1"
            ]
          },
          "metadata": {},
          "execution_count": 20
        }
      ]
    },
    {
      "cell_type": "markdown",
      "id": "2a16c5fd",
      "metadata": {
        "id": "2a16c5fd"
      },
      "source": [
        "### 4. Write a Python Program To Find ASCII value of a character?"
      ]
    },
    {
      "cell_type": "code",
      "source": [
        "in_put = input('Enter your value for answer: ')\n",
        "print(\"The ASCII value of '\" + in_put + \"' is\", ord(in_put))\n"
      ],
      "metadata": {
        "colab": {
          "base_uri": "https://localhost:8080/"
        },
        "id": "LvmuA-BGWrJH",
        "outputId": "c42b6983-1f7a-424f-fbab-84fb376ff913"
      },
      "id": "LvmuA-BGWrJH",
      "execution_count": 23,
      "outputs": [
        {
          "output_type": "stream",
          "name": "stdout",
          "text": [
            "Enter your value for answer: P\n",
            "The ASCII value of 'P' is 80\n"
          ]
        }
      ]
    },
    {
      "cell_type": "markdown",
      "id": "226778a0",
      "metadata": {
        "id": "226778a0"
      },
      "source": [
        "### 5. Write a Python Program to Make a Simple Calculator with 4 basic mathematical operations?"
      ]
    },
    {
      "cell_type": "code",
      "source": [
        "def add(a,b):\n",
        "  return a+b\n",
        "\n",
        "def sub(a,b):\n",
        "  return a-b\n",
        "\n",
        "def div(a,b):\n",
        "  return a/b\n",
        "\n",
        "def mul(a,b):\n",
        "  return a*b\n",
        "\n",
        "print('select opertiopn to perform')\n",
        "print('1. Addition')\n",
        "print('2. substraction')\n",
        "print('3. Division')\n",
        "print('4. Multiplication')\n",
        "\n",
        "while True:\n",
        "\n",
        "  choice = input('Enter your choice for operation:\\n')\n",
        "\n",
        "  if choice in ('1','2','3','4'):\n",
        "    num1 = float(input('Enter your first number: '))\n",
        "    num2 = float(input('Enter your second number: '))\n",
        "\n",
        "    if choice == '1':\n",
        "      print(num1, \"+\", num2, \"=\", add(num1, num2))\n",
        "    elif choice == '2':\n",
        "      print(num1, \"+\", num2, \"=\", sub(num1, num2))\n",
        "    elif choice == '3':\n",
        "      print(num1, \"+\", num2, \"=\", div(num1, num2))\n",
        "    else:\n",
        "      print(num1, \"+\", num2, \"=\", mul(num1, num2))\n",
        "\n",
        "    next_calculation = input(\"Let's do next calculation? (yes/no): \")\n",
        "    if next_calculation == \"no\":\n",
        "      break\n",
        "  else:\n",
        "    print('Invalid input')\n"
      ],
      "metadata": {
        "colab": {
          "base_uri": "https://localhost:8080/"
        },
        "id": "HYPKdVKSYErQ",
        "outputId": "8a58e9e6-e2bd-413b-edd3-3735bdaf0c11"
      },
      "id": "HYPKdVKSYErQ",
      "execution_count": 35,
      "outputs": [
        {
          "name": "stdout",
          "output_type": "stream",
          "text": [
            "select opertiopn to perform\n",
            "1. Addition\n",
            "2. substraction\n",
            "3. Division\n",
            "4. Multiplication\n",
            "Enter your choice for operation:\n",
            "1\n",
            "Enter your first number: 2\n",
            "Enter your second number: 3\n",
            "2.0 + 3.0 = 5.0\n",
            "Let's do next calculation? (yes/no): yes\n",
            "Enter your choice for operation:\n",
            "3\n",
            "Enter your first number: 5\n",
            "Enter your second number: 5\n",
            "5.0 + 5.0 = 1.0\n",
            "Let's do next calculation? (yes/no): no\n"
          ]
        }
      ]
    },
    {
      "cell_type": "code",
      "source": [],
      "metadata": {
        "id": "imUzT2McfBWb"
      },
      "id": "imUzT2McfBWb",
      "execution_count": null,
      "outputs": []
    }
  ],
  "metadata": {
    "kernelspec": {
      "display_name": "Python 3 (ipykernel)",
      "language": "python",
      "name": "python3"
    },
    "language_info": {
      "codemirror_mode": {
        "name": "ipython",
        "version": 3
      },
      "file_extension": ".py",
      "mimetype": "text/x-python",
      "name": "python",
      "nbconvert_exporter": "python",
      "pygments_lexer": "ipython3",
      "version": "3.9.12"
    },
    "colab": {
      "provenance": [],
      "include_colab_link": true
    }
  },
  "nbformat": 4,
  "nbformat_minor": 5
}
