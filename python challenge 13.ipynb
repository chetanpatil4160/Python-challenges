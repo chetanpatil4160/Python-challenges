{
  "cells": [
    {
      "cell_type": "markdown",
      "metadata": {
        "id": "view-in-github",
        "colab_type": "text"
      },
      "source": [
        "<a href=\"https://colab.research.google.com/github/chetanpatil4160/Python-challenges/blob/main/python%20challenge%2013.ipynb\" target=\"_parent\"><img src=\"https://colab.research.google.com/assets/colab-badge.svg\" alt=\"Open In Colab\"/></a>"
      ]
    },
    {
      "cell_type": "markdown",
      "id": "62fd0c8e",
      "metadata": {
        "id": "62fd0c8e"
      },
      "source": [
        "# Python Programming Basic Assignment 13"
      ]
    },
    {
      "cell_type": "markdown",
      "id": "ed4a3c0b",
      "metadata": {
        "id": "ed4a3c0b"
      },
      "source": [
        "de\n",
        "### 1. Write a program that calculates and prints the value according to the given formula:\n",
        "Q = Square root of [(2 C D)/H]\n",
        "\n",
        "Following are the fixed values of C and H:\n",
        "\n",
        "C is 50. H is 30.\n",
        "\n",
        "D is the variable whose values should be input to your program in a comma-separated sequence.\n",
        "\n",
        "Example\n",
        "\n",
        "Let us assume the following comma separated input sequence is given to the program:\n",
        "\n",
        "100,150,180\n",
        "\n",
        "The output of the program should be:\n",
        "\n",
        "18,22,24"
      ]
    },
    {
      "cell_type": "code",
      "source": [
        "def sqrt_arg(*args):\n",
        "  res = []\n",
        "  import math\n",
        "  c = 50 \n",
        "  h = 30\n",
        "  for i in args:\n",
        "    q = round(math.sqrt(2*c*i/h))\n",
        "    res.append(q)\n",
        "  return res"
      ],
      "metadata": {
        "id": "CCZfd69ehrQW"
      },
      "id": "CCZfd69ehrQW",
      "execution_count": 34,
      "outputs": []
    },
    {
      "cell_type": "code",
      "source": [
        "sqrt_arg(100,150,180)"
      ],
      "metadata": {
        "colab": {
          "base_uri": "https://localhost:8080/"
        },
        "id": "rYUBZhzGiQhz",
        "outputId": "03a56e6e-911a-4ded-a855-7e34d3087dc7"
      },
      "id": "rYUBZhzGiQhz",
      "execution_count": 35,
      "outputs": [
        {
          "output_type": "execute_result",
          "data": {
            "text/plain": [
              "[18, 22, 24]"
            ]
          },
          "metadata": {},
          "execution_count": 35
        }
      ]
    },
    {
      "cell_type": "markdown",
      "id": "ed37b6ed",
      "metadata": {
        "id": "ed37b6ed"
      },
      "source": [
        "### 2. Write a program which takes 2 digits, X,Y as input and generates a 2-dimensional array. The element value in the i-th row and j-th column of the array should be i*j."
      ]
    },
    {
      "cell_type": "code",
      "source": [
        "row= int(input(\"insert row \\n: \"))\n",
        "col = int(input(\"insert col \\n: \"))\n",
        "mat = [] \n",
        "for i in range(row):\n",
        "  empty = []\n",
        "  for j in range(col):\n",
        "    empty.append(i*j)\n",
        "  mat.append(empty)\n",
        "print(mat)"
      ],
      "metadata": {
        "colab": {
          "base_uri": "https://localhost:8080/"
        },
        "id": "CSdhXbuoqD1Y",
        "outputId": "2c198c9e-4d5e-4ffb-da24-5c6ba8aa2f71"
      },
      "id": "CSdhXbuoqD1Y",
      "execution_count": 59,
      "outputs": [
        {
          "output_type": "stream",
          "name": "stdout",
          "text": [
            "insert row \n",
            ": 3\n",
            "insert col \n",
            ": 4\n",
            "[[0, 0, 0, 0], [0, 1, 2, 3], [0, 2, 4, 6]]\n"
          ]
        }
      ]
    },
    {
      "cell_type": "markdown",
      "id": "bc7f977b",
      "metadata": {
        "id": "bc7f977b"
      },
      "source": [
        "### 3. Write a program that accepts a comma separated sequence of words as input and prints the words in a comma-separated sequence after sorting them alphabetically."
      ]
    },
    {
      "cell_type": "code",
      "source": [
        "def comma_sep(*arg):\n",
        "   return sorted(list(arg))"
      ],
      "metadata": {
        "id": "tLpLgAp6vtSL"
      },
      "id": "tLpLgAp6vtSL",
      "execution_count": 60,
      "outputs": []
    },
    {
      "cell_type": "code",
      "source": [
        "comma_sep('order' , 'hello' , 'would' , 'test')"
      ],
      "metadata": {
        "colab": {
          "base_uri": "https://localhost:8080/"
        },
        "id": "OjFEOmBUwEFf",
        "outputId": "a2b9293f-21a6-41f1-def6-a82814a951d1"
      },
      "id": "OjFEOmBUwEFf",
      "execution_count": 63,
      "outputs": [
        {
          "output_type": "execute_result",
          "data": {
            "text/plain": [
              "['hello', 'order', 'test', 'would']"
            ]
          },
          "metadata": {},
          "execution_count": 63
        }
      ]
    },
    {
      "cell_type": "markdown",
      "id": "171c3d90",
      "metadata": {
        "id": "171c3d90"
      },
      "source": [
        "### 4. Write a program that accepts a sequence of whitespace separated words as input and prints the words after removing all duplicate words and sorting them alphanumerically."
      ]
    },
    {
      "cell_type": "code",
      "source": [
        "user_input = input('Enter word phrase: ')\n",
        "a = user_input.split(' ')\n",
        "b=[]\n",
        "for i in a:\n",
        "  if i not in b:\n",
        "    b.append(i)\n",
        "  else:\n",
        "    continue\n",
        "b.sort()\n",
        "print(' '.join(b))"
      ],
      "metadata": {
        "colab": {
          "base_uri": "https://localhost:8080/"
        },
        "id": "WJCiPgd1xVBM",
        "outputId": "3970d645-0b3e-4ec9-8413-9462ced3c475"
      },
      "id": "WJCiPgd1xVBM",
      "execution_count": 64,
      "outputs": [
        {
          "output_type": "stream",
          "name": "stdout",
          "text": [
            "Enter word phrase: chetan ishwar patil dinesh ishwar patil charusheela chetan patil\n",
            "charusheela chetan dinesh ishwar patil\n"
          ]
        }
      ]
    },
    {
      "cell_type": "markdown",
      "id": "88d25c49",
      "metadata": {
        "id": "88d25c49"
      },
      "source": [
        "### 5. Write a program that accepts a sentence and calculate the number of letters and digits."
      ]
    },
    {
      "cell_type": "code",
      "source": [
        "user_input = input('Enter word phrase: ')\n",
        "digit =0\n",
        "letter = 0\n",
        "for i in user_input:\n",
        "  if i.isnumeric():\n",
        "    digit = digit + 1\n",
        "  else:\n",
        "    letter = letter + 1\n",
        "\n",
        "print(f'digit = {digit}')\n",
        "print(f'letter = {letter}')"
      ],
      "metadata": {
        "colab": {
          "base_uri": "https://localhost:8080/"
        },
        "id": "ZAvmZPmKypfi",
        "outputId": "0f1c0425-86ae-4457-e7ee-b659fed08180"
      },
      "id": "ZAvmZPmKypfi",
      "execution_count": 69,
      "outputs": [
        {
          "output_type": "stream",
          "name": "stdout",
          "text": [
            "Enter word phrase: chetani1234\n",
            "digit = 4\n",
            "letter = 7\n"
          ]
        }
      ]
    },
    {
      "cell_type": "markdown",
      "id": "9695c4ca",
      "metadata": {
        "id": "9695c4ca"
      },
      "source": [
        "### 6. A website requires the users to input username and password to register. Write a program to check the validity of password input by users."
      ]
    },
    {
      "cell_type": "code",
      "source": [
        "import re\n",
        "\n",
        "passwords = input(\"Type in: \")\n",
        "passwords = passwords.split(\",\")\n",
        "\n",
        "accepted_pass = []\n",
        "for i in passwords:\n",
        "    \n",
        "    if len(i) < 6 or len(i) > 12:\n",
        "        continue\n",
        "\n",
        "    elif not re.search(\"([a-z])+\", i):\n",
        "        continue\n",
        "\n",
        "    elif not re.search(\"([A-Z])+\", i):\n",
        "        continue\n",
        "\n",
        "    elif not re.search(\"([0-9])+\", i):\n",
        "        continue\n",
        "\n",
        "    elif not re.search(\"([!@$%^&])+\", i):\n",
        "        continue\n",
        "\n",
        "    else:\n",
        "        accepted_pass.append(i)\n",
        "\n",
        "print((\" \").join(accepted_pass))"
      ],
      "metadata": {
        "id": "NBAJaMJF1Iy3"
      },
      "id": "NBAJaMJF1Iy3",
      "execution_count": null,
      "outputs": []
    }
  ],
  "metadata": {
    "kernelspec": {
      "display_name": "Python 3 (ipykernel)",
      "language": "python",
      "name": "python3"
    },
    "language_info": {
      "codemirror_mode": {
        "name": "ipython",
        "version": 3
      },
      "file_extension": ".py",
      "mimetype": "text/x-python",
      "name": "python",
      "nbconvert_exporter": "python",
      "pygments_lexer": "ipython3",
      "version": "3.9.12"
    },
    "colab": {
      "provenance": [],
      "include_colab_link": true
    }
  },
  "nbformat": 4,
  "nbformat_minor": 5
}