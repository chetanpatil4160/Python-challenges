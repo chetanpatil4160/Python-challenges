{
  "cells": [
    {
      "cell_type": "markdown",
      "metadata": {
        "id": "view-in-github",
        "colab_type": "text"
      },
      "source": [
        "<a href=\"https://colab.research.google.com/github/chetanpatil4160/Bike_shearing_demand_Machine_learning/blob/main/python%20challenge%202.ipynb\" target=\"_parent\"><img src=\"https://colab.research.google.com/assets/colab-badge.svg\" alt=\"Open In Colab\"/></a>"
      ]
    },
    {
      "cell_type": "markdown",
      "id": "08c66ea5",
      "metadata": {
        "id": "08c66ea5"
      },
      "source": [
        "## Programming Assignment_2\n",
        "-------------"
      ]
    },
    {
      "cell_type": "markdown",
      "id": "4e50cf42",
      "metadata": {
        "id": "4e50cf42"
      },
      "source": [
        "### 1. Write a Python program to convert kilometers to miles?\n"
      ]
    },
    {
      "cell_type": "code",
      "source": [
        "km_value = float(input('Enter the value of kilometer for conversion:  '))\n",
        "\n",
        "km_to_mile = round((km_value * 0.621371 ),2)\n",
        "\n",
        "print(f'{km_value} km is equal to {km_to_mile} miles')"
      ],
      "metadata": {
        "id": "RqgDSo2Ofpxf",
        "outputId": "d6ccd9ed-eb01-413d-b6e6-47456abe7201",
        "colab": {
          "base_uri": "https://localhost:8080/"
        }
      },
      "id": "RqgDSo2Ofpxf",
      "execution_count": 5,
      "outputs": [
        {
          "output_type": "stream",
          "name": "stdout",
          "text": [
            "Enter the value of kilometer for conversion:  3\n",
            "3 km is equal to 1.86 miles\n"
          ]
        }
      ]
    },
    {
      "cell_type": "markdown",
      "id": "0df4e6bf",
      "metadata": {
        "id": "0df4e6bf"
      },
      "source": [
        "### 2.Write a Python program to convert Celsius to Fahrenheit?"
      ]
    },
    {
      "cell_type": "code",
      "source": [
        "\n",
        "celcius = float(input('Enter celsius (C) value :  '))\n",
        "\n",
        "Fahrenheit = (celcius * 9/5) + 32\n",
        "\n",
        "print(f'{celcius} C = {Fahrenheit} F ')"
      ],
      "metadata": {
        "id": "1VeGRoYXg1Pd",
        "outputId": "afef0571-d8a1-4cba-9854-88c5aaa29868",
        "colab": {
          "base_uri": "https://localhost:8080/"
        }
      },
      "id": "1VeGRoYXg1Pd",
      "execution_count": 11,
      "outputs": [
        {
          "output_type": "stream",
          "name": "stdout",
          "text": [
            "Enter celsius (C) value :  2\n",
            "2 C = 35.6 F \n"
          ]
        }
      ]
    },
    {
      "cell_type": "markdown",
      "id": "46129b8e",
      "metadata": {
        "id": "46129b8e"
      },
      "source": [
        "### 3. Write a Python program to display calendar?\n"
      ]
    },
    {
      "cell_type": "code",
      "source": [
        "import calendar\n",
        "\n",
        "yy = int(input(\"Enter year: \"))\n",
        "mm = int(input(\"Enter month: \"))\n",
        "\n",
        "print(calendar.month(yy, mm))"
      ],
      "metadata": {
        "id": "h09-Y-YtiAtV",
        "outputId": "c452fa5e-3e10-4974-8df4-a976dead0640",
        "colab": {
          "base_uri": "https://localhost:8080/"
        }
      },
      "id": "h09-Y-YtiAtV",
      "execution_count": 14,
      "outputs": [
        {
          "output_type": "stream",
          "name": "stdout",
          "text": [
            "Enter year: 2022\n",
            "Enter month: 11\n",
            "   November 2022\n",
            "Mo Tu We Th Fr Sa Su\n",
            "    1  2  3  4  5  6\n",
            " 7  8  9 10 11 12 13\n",
            "14 15 16 17 18 19 20\n",
            "21 22 23 24 25 26 27\n",
            "28 29 30\n",
            "\n"
          ]
        }
      ]
    },
    {
      "cell_type": "markdown",
      "id": "db2bf0f7",
      "metadata": {
        "id": "db2bf0f7"
      },
      "source": [
        "### 4. Write a Python program to solve quadratic equation?"
      ]
    },
    {
      "cell_type": "code",
      "source": [
        "import cmath\n",
        "\n",
        "a = float(input('Enter a: '))  \n",
        "b = float(input('Enter b: '))  \n",
        "c = float(input('Enter c: '))  \n",
        "\n",
        "# calculate the discriminant\n",
        "d = (b**2) - (4*a*c)\n",
        "\n",
        "# find two solutions\n",
        "sol1 = (-b-cmath.sqrt(d))/(2*a)\n",
        "sol2 = (-b+cmath.sqrt(d))/(2*a)\n",
        "\n",
        "print(sol1)\n",
        "print(sol2)"
      ],
      "metadata": {
        "id": "900nr_c_ivsx",
        "outputId": "c8178273-84e7-4ba1-e4d2-0f1087d45e87",
        "colab": {
          "base_uri": "https://localhost:8080/"
        }
      },
      "id": "900nr_c_ivsx",
      "execution_count": 17,
      "outputs": [
        {
          "output_type": "stream",
          "name": "stdout",
          "text": [
            "Enter a: 1\n",
            "Enter b: 5\n",
            "Enter c: 5\n",
            "(-3.618033988749895+0j)\n",
            "(-1.381966011250105+0j)\n"
          ]
        }
      ]
    },
    {
      "cell_type": "markdown",
      "id": "f70f74c9",
      "metadata": {
        "id": "f70f74c9"
      },
      "source": [
        "### 5. Write a Python program to swap two variables without temp variable?"
      ]
    },
    {
      "cell_type": "code",
      "source": [
        "x = int(input(\"Enter the value of x: \"))\n",
        "y = int(input(\"Enter the value of y: \"))\n",
        "\n",
        "x,y = y,x\n",
        "\n",
        "print('The value of x after swapping :',x)\n",
        "print('The value of y after swapping :',y)"
      ],
      "metadata": {
        "id": "dvmHhBsokV8X",
        "outputId": "25f10b91-c4a2-4560-988c-f2adcd70b06f",
        "colab": {
          "base_uri": "https://localhost:8080/"
        }
      },
      "id": "dvmHhBsokV8X",
      "execution_count": 15,
      "outputs": [
        {
          "output_type": "stream",
          "name": "stdout",
          "text": [
            "Enter the value of x: 1\n",
            "Enter the value of y: 2\n",
            "The value of x after swapping : 2\n",
            "The value of y after swapping : 1\n"
          ]
        }
      ]
    },
    {
      "cell_type": "code",
      "source": [],
      "metadata": {
        "id": "YMxkif_GkyUd"
      },
      "id": "YMxkif_GkyUd",
      "execution_count": null,
      "outputs": []
    }
  ],
  "metadata": {
    "kernelspec": {
      "display_name": "Python 3 (ipykernel)",
      "language": "python",
      "name": "python3"
    },
    "language_info": {
      "codemirror_mode": {
        "name": "ipython",
        "version": 3
      },
      "file_extension": ".py",
      "mimetype": "text/x-python",
      "name": "python",
      "nbconvert_exporter": "python",
      "pygments_lexer": "ipython3",
      "version": "3.9.12"
    },
    "colab": {
      "provenance": [],
      "include_colab_link": true
    }
  },
  "nbformat": 4,
  "nbformat_minor": 5
}